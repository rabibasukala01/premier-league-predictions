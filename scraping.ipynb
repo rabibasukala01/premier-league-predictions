{
 "cells": [
  {
   "cell_type": "code",
   "execution_count": 15,
   "id": "c4eba937-5bf6-463d-ab80-ca87abd801c7",
   "metadata": {},
   "outputs": [],
   "source": [
    "from bs4 import BeautifulSoup\n",
    "import requests\n",
    "import time\n",
    "import os"
   ]
  },
  {
   "cell_type": "code",
   "execution_count": 4,
   "id": "a8cc2cc5",
   "metadata": {},
   "outputs": [],
   "source": [
    "BASE_URL=\"https://www.football-data.co.uk/\"\n",
    "DATA_FOLDER=\"PL_data\""
   ]
  },
  {
   "cell_type": "code",
   "execution_count": 5,
   "id": "95ab5b1e-103c-49ec-9a3e-d39e4fac1d43",
   "metadata": {},
   "outputs": [],
   "source": [
    "\n",
    "premier_league_url=BASE_URL+\"englandm.php\"\n",
    "result=requests.get(premier_league_url)"
   ]
  },
  {
   "cell_type": "code",
   "execution_count": 21,
   "id": "87d15d90-20ce-4301-bf9e-7cf13c700d1c",
   "metadata": {},
   "outputs": [],
   "source": [
    "#fucntion to download the csv from the site\n",
    "def download_data(url,file_name):\n",
    "    start=time.perf_counter()\n",
    "    response=requests.get(url)\n",
    "    # Check if the request was successful\n",
    "    if response.status_code == 200:\n",
    "        # Save the content of the response as a CSV file\n",
    "        with open(DATA_FOLDER + file_name+ \".csv\", 'wb') as file:\n",
    "            file.write(response.content)\n",
    "        return 'CSV file downloaded successfully.' + str(time.perf_counter()-start)\n",
    "    else:\n",
    "        return 'Failed to download CSV file.'+str(time.perf_counter()-start)\n",
    "    \n"
   ]
  },
  {
   "cell_type": "code",
   "execution_count": 7,
   "id": "f440b72b-efe5-4bb3-8747-ea0b4a902ea1",
   "metadata": {},
   "outputs": [],
   "source": [
    "# create a soup\n",
    "if result.status_code==200:\n",
    "    soup=BeautifulSoup(result.text,'html.parser')"
   ]
  },
  {
   "cell_type": "code",
   "execution_count": 17,
   "id": "80deb3e9-1475-4a07-9d04-3202c6d4abf4",
   "metadata": {},
   "outputs": [
    {
     "name": "stdout",
     "output_type": "stream",
     "text": [
      "mmz4281/2324/E0.csv\n",
      "mmz4281/9394/E0.csv\n"
     ]
    }
   ],
   "source": [
    "# find all the links related to premier league csv files in site.\n",
    "# seems like the file got /seasonyear/EO for PL\n",
    "\n",
    "# Find all <a> tags\n",
    "a_tags = soup.find_all('a')\n",
    "\n",
    "# Extract the href attribute from each <a> tag\n",
    "links = [a_tag.get('href') for a_tag in a_tags if a_tag.get('href')]\n",
    "\n",
    "# need only PL links as it is in format of /seasonyear/E0\n",
    "csv_links=[]\n",
    "for link in links:\n",
    "   if link.endswith('E0.csv'):\n",
    "      csv_links.append(link)\n",
    "\n",
    "print(csv_links[0])\n",
    "print(csv_links[-1])\n",
    "# data we got from 1993/1994-2023/2024\n"
   ]
  },
  {
   "cell_type": "code",
   "execution_count": 23,
   "id": "d6233c51-5653-41cd-a587-18803a61c493",
   "metadata": {},
   "outputs": [
    {
     "name": "stdout",
     "output_type": "stream",
     "text": [
      "CSV file downloaded successfully.1.1409786999574862\n",
      "CSV file downloaded successfully.1.3282761999871582\n",
      "CSV file downloaded successfully.1.2146193999797106\n",
      "CSV file downloaded successfully.1.1877756000030786\n",
      "CSV file downloaded successfully.1.1666109999641776\n",
      "CSV file downloaded successfully.0.9901967999758199\n",
      "CSV file downloaded successfully.1.049078899959568\n",
      "CSV file downloaded successfully.1.1891445000073873\n",
      "CSV file downloaded successfully.1.159987099992577\n",
      "CSV file downloaded successfully.1.2255705000134185\n",
      "CSV file downloaded successfully.1.216108200023882\n",
      "CSV file downloaded successfully.1.178324899985455\n",
      "CSV file downloaded successfully.1.173854599997867\n",
      "CSV file downloaded successfully.1.0581302999635227\n",
      "CSV file downloaded successfully.1.1821888000122271\n",
      "CSV file downloaded successfully.1.1675607999786735\n",
      "CSV file downloaded successfully.1.1717886999831535\n",
      "CSV file downloaded successfully.1.2980210999958217\n",
      "CSV file downloaded successfully.1.0091933999792673\n",
      "CSV file downloaded successfully.1.0019175999914296\n",
      "CSV file downloaded successfully.1.1481375999865122\n",
      "CSV file downloaded successfully.1.160445499990601\n",
      "CSV file downloaded successfully.0.9964689000044018\n",
      "CSV file downloaded successfully.1.05845400004182\n",
      "CSV file downloaded successfully.0.9205369999981485\n",
      "CSV file downloaded successfully.0.8701385000022128\n",
      "CSV file downloaded successfully.0.9153774000005797\n",
      "CSV file downloaded successfully.0.8894110999535769\n",
      "CSV file downloaded successfully.0.9394368000212125\n",
      "CSV file downloaded successfully.0.9427298999507912\n",
      "CSV file downloaded successfully.0.7981331000337377\n"
     ]
    }
   ],
   "source": [
    "# download the data \n",
    "# print(csv_links[0][-12:-7])\n",
    "for file_link in csv_links:\n",
    "    print(download_data(BASE_URL+file_link,file_link[-12:-7]))\n",
    "\n"
   ]
  },
  {
   "cell_type": "code",
   "execution_count": 26,
   "id": "cfbaab0d-2528-4984-b9a0-bdd9eb621f8d",
   "metadata": {},
   "outputs": [
    {
     "name": "stdout",
     "output_type": "stream",
     "text": [
      "31\n"
     ]
    }
   ],
   "source": [
    "print(len(csv_links))\n",
    "# matched with csv link we download!! sucess"
   ]
  }
 ],
 "metadata": {
  "kernelspec": {
   "display_name": "Python 3 (ipykernel)",
   "language": "python",
   "name": "python3"
  },
  "language_info": {
   "codemirror_mode": {
    "name": "ipython",
    "version": 3
   },
   "file_extension": ".py",
   "mimetype": "text/x-python",
   "name": "python",
   "nbconvert_exporter": "python",
   "pygments_lexer": "ipython3",
   "version": "3.10.11"
  }
 },
 "nbformat": 4,
 "nbformat_minor": 5
}
